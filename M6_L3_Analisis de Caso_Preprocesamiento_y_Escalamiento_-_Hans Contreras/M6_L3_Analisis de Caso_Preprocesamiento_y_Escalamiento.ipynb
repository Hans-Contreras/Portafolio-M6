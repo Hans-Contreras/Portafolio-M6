{
 "cells": [
  {
   "cell_type": "markdown",
   "id": "4edf9531",
   "metadata": {},
   "source": [
    "# Módulo 6 · Preprocesamiento y Escalamiento de Datos\n",
    "**Actividad L3 – Análisis de caso**"
   ]
  },
  {
   "cell_type": "markdown",
   "id": "1982335c",
   "metadata": {},
   "source": [
    "## 1) Instalación/Imports\n",
    "Instalación de librerías requeridas: `pandas`, `numpy`, `scikit-learn`, `matplotlib`."
   ]
  },
  {
   "cell_type": "code",
   "id": "15cbb1c4",
   "metadata": {
    "ExecuteTime": {
     "end_time": "2025-08-30T20:02:08.486947Z",
     "start_time": "2025-08-30T20:02:08.483948Z"
    }
   },
   "source": [
    "# Imports\n",
    "import pandas as pd\n",
    "import numpy as np\n",
    "from sklearn.impute import SimpleImputer\n",
    "from sklearn.preprocessing import LabelEncoder, OneHotEncoder, MinMaxScaler, StandardScaler\n",
    "import matplotlib.pyplot as plt\n",
    "\n",
    "# Config opcional para ver más columnas\n",
    "pd.set_option('display.max_columns', 50)"
   ],
   "outputs": [],
   "execution_count": 19
  },
  {
   "cell_type": "markdown",
   "id": "b86b1700",
   "metadata": {},
   "source": [
    "## 2) Dataset base (ejemplo del enunciado)\n",
    "Usamos un dataset reproducible pequeño con un valor faltante en `Ingresos_USD` y una variable categórica `Ciudad`."
   ]
  },
  {
   "cell_type": "code",
   "id": "13cceb94",
   "metadata": {
    "ExecuteTime": {
     "end_time": "2025-08-30T20:02:15.687448Z",
     "start_time": "2025-08-30T20:02:15.681912Z"
    }
   },
   "source": [
    "# Dataset base\n",
    "df = pd.DataFrame({\n",
    "    \"ID\": [1, 2, 3, 4],\n",
    "    \"Edad\": [25, 45, 30, 40],\n",
    "    \"Ciudad\": [\"Madrid\", \"Sevilla\", \"Madrid\", \"Barcelona\"],\n",
    "    \"Ingresos_USD\": [30000, 50000, np.nan, 40000]\n",
    "})\n",
    "df"
   ],
   "outputs": [
    {
     "data": {
      "text/plain": [
       "   ID  Edad     Ciudad  Ingresos_USD\n",
       "0   1    25     Madrid       30000.0\n",
       "1   2    45    Sevilla       50000.0\n",
       "2   3    30     Madrid           NaN\n",
       "3   4    40  Barcelona       40000.0"
      ],
      "text/html": [
       "<div>\n",
       "<style scoped>\n",
       "    .dataframe tbody tr th:only-of-type {\n",
       "        vertical-align: middle;\n",
       "    }\n",
       "\n",
       "    .dataframe tbody tr th {\n",
       "        vertical-align: top;\n",
       "    }\n",
       "\n",
       "    .dataframe thead th {\n",
       "        text-align: right;\n",
       "    }\n",
       "</style>\n",
       "<table border=\"1\" class=\"dataframe\">\n",
       "  <thead>\n",
       "    <tr style=\"text-align: right;\">\n",
       "      <th></th>\n",
       "      <th>ID</th>\n",
       "      <th>Edad</th>\n",
       "      <th>Ciudad</th>\n",
       "      <th>Ingresos_USD</th>\n",
       "    </tr>\n",
       "  </thead>\n",
       "  <tbody>\n",
       "    <tr>\n",
       "      <th>0</th>\n",
       "      <td>1</td>\n",
       "      <td>25</td>\n",
       "      <td>Madrid</td>\n",
       "      <td>30000.0</td>\n",
       "    </tr>\n",
       "    <tr>\n",
       "      <th>1</th>\n",
       "      <td>2</td>\n",
       "      <td>45</td>\n",
       "      <td>Sevilla</td>\n",
       "      <td>50000.0</td>\n",
       "    </tr>\n",
       "    <tr>\n",
       "      <th>2</th>\n",
       "      <td>3</td>\n",
       "      <td>30</td>\n",
       "      <td>Madrid</td>\n",
       "      <td>NaN</td>\n",
       "    </tr>\n",
       "    <tr>\n",
       "      <th>3</th>\n",
       "      <td>4</td>\n",
       "      <td>40</td>\n",
       "      <td>Barcelona</td>\n",
       "      <td>40000.0</td>\n",
       "    </tr>\n",
       "  </tbody>\n",
       "</table>\n",
       "</div>"
      ]
     },
     "execution_count": 20,
     "metadata": {},
     "output_type": "execute_result"
    }
   ],
   "execution_count": 20
  },
  {
   "cell_type": "markdown",
   "id": "595dd420",
   "metadata": {},
   "source": [
    "## 3) Imputación de valores faltantes\n",
    "Imputamos `Ingresos_USD` con la **media** (estrategia clásica para variables numéricas)."
   ]
  },
  {
   "cell_type": "code",
   "id": "06699444",
   "metadata": {
    "ExecuteTime": {
     "end_time": "2025-08-30T20:02:32.318393Z",
     "start_time": "2025-08-30T20:02:32.311387Z"
    }
   },
   "source": [
    "# Imputación media\n",
    "imputer = SimpleImputer(strategy=\"mean\")\n",
    "df[\"Ingresos_USD_imputado\"] = imputer.fit_transform(df[[\"Ingresos_USD\"]])\n",
    "df[[\"Ingresos_USD\", \"Ingresos_USD_imputado\"]]"
   ],
   "outputs": [
    {
     "data": {
      "text/plain": [
       "   Ingresos_USD  Ingresos_USD_imputado\n",
       "0       30000.0                30000.0\n",
       "1       50000.0                50000.0\n",
       "2           NaN                40000.0\n",
       "3       40000.0                40000.0"
      ],
      "text/html": [
       "<div>\n",
       "<style scoped>\n",
       "    .dataframe tbody tr th:only-of-type {\n",
       "        vertical-align: middle;\n",
       "    }\n",
       "\n",
       "    .dataframe tbody tr th {\n",
       "        vertical-align: top;\n",
       "    }\n",
       "\n",
       "    .dataframe thead th {\n",
       "        text-align: right;\n",
       "    }\n",
       "</style>\n",
       "<table border=\"1\" class=\"dataframe\">\n",
       "  <thead>\n",
       "    <tr style=\"text-align: right;\">\n",
       "      <th></th>\n",
       "      <th>Ingresos_USD</th>\n",
       "      <th>Ingresos_USD_imputado</th>\n",
       "    </tr>\n",
       "  </thead>\n",
       "  <tbody>\n",
       "    <tr>\n",
       "      <th>0</th>\n",
       "      <td>30000.0</td>\n",
       "      <td>30000.0</td>\n",
       "    </tr>\n",
       "    <tr>\n",
       "      <th>1</th>\n",
       "      <td>50000.0</td>\n",
       "      <td>50000.0</td>\n",
       "    </tr>\n",
       "    <tr>\n",
       "      <th>2</th>\n",
       "      <td>NaN</td>\n",
       "      <td>40000.0</td>\n",
       "    </tr>\n",
       "    <tr>\n",
       "      <th>3</th>\n",
       "      <td>40000.0</td>\n",
       "      <td>40000.0</td>\n",
       "    </tr>\n",
       "  </tbody>\n",
       "</table>\n",
       "</div>"
      ]
     },
     "execution_count": 21,
     "metadata": {},
     "output_type": "execute_result"
    }
   ],
   "execution_count": 21
  },
  {
   "cell_type": "markdown",
   "id": "4a05f100",
   "metadata": {},
   "source": [
    "## 4) Codificación categórica\n",
    "Mostramos tres alternativas frecuentes:\n",
    "- **Label Encoding** (asigna números a categorías).\n",
    "- **One-Hot Encoding (sklearn)** (una columna por categoría).\n",
    "- **Variables Dummy (pandas)** con `drop_first=True` para evitar multicolinealidad en modelos lineales."
   ]
  },
  {
   "cell_type": "code",
   "id": "78389c65",
   "metadata": {
    "ExecuteTime": {
     "end_time": "2025-08-30T20:02:38.211475Z",
     "start_time": "2025-08-30T20:02:38.199960Z"
    }
   },
   "source": [
    "# Label Encoding\n",
    "le = LabelEncoder()\n",
    "df[\"Ciudad_label\"] = le.fit_transform(df[\"Ciudad\"])\n",
    "\n",
    "# One-Hot Encoding (compatibilidad: usar 'sparse=False')\n",
    "ohe = OneHotEncoder(sparse_output=False, drop=None)\n",
    "ciudad_ohe = ohe.fit_transform(df[[\"Ciudad\"]])\n",
    "ohe_cols = [f\"Ciudad_{c}\" for c in ohe.categories_[0]]\n",
    "df_ohe = pd.DataFrame(ciudad_ohe, columns=ohe_cols, index=df.index)\n",
    "\n",
    "# Dummies (drop_first=True)\n",
    "df_dummies = pd.get_dummies(df[[\"Ciudad\"]], prefix=\"CiudadDummy\", drop_first=True)\n",
    "\n",
    "# Unimos todo para comparar\n",
    "df_enc = pd.concat([df, df_ohe, df_dummies], axis=1)\n",
    "df_enc\n"
   ],
   "outputs": [
    {
     "data": {
      "text/plain": [
       "   ID  Edad     Ciudad  Ingresos_USD  Ingresos_USD_imputado  Ciudad_label  \\\n",
       "0   1    25     Madrid       30000.0                30000.0             1   \n",
       "1   2    45    Sevilla       50000.0                50000.0             2   \n",
       "2   3    30     Madrid           NaN                40000.0             1   \n",
       "3   4    40  Barcelona       40000.0                40000.0             0   \n",
       "\n",
       "   Ciudad_Barcelona  Ciudad_Madrid  Ciudad_Sevilla  CiudadDummy_Madrid  \\\n",
       "0               0.0            1.0             0.0                True   \n",
       "1               0.0            0.0             1.0               False   \n",
       "2               0.0            1.0             0.0                True   \n",
       "3               1.0            0.0             0.0               False   \n",
       "\n",
       "   CiudadDummy_Sevilla  \n",
       "0                False  \n",
       "1                 True  \n",
       "2                False  \n",
       "3                False  "
      ],
      "text/html": [
       "<div>\n",
       "<style scoped>\n",
       "    .dataframe tbody tr th:only-of-type {\n",
       "        vertical-align: middle;\n",
       "    }\n",
       "\n",
       "    .dataframe tbody tr th {\n",
       "        vertical-align: top;\n",
       "    }\n",
       "\n",
       "    .dataframe thead th {\n",
       "        text-align: right;\n",
       "    }\n",
       "</style>\n",
       "<table border=\"1\" class=\"dataframe\">\n",
       "  <thead>\n",
       "    <tr style=\"text-align: right;\">\n",
       "      <th></th>\n",
       "      <th>ID</th>\n",
       "      <th>Edad</th>\n",
       "      <th>Ciudad</th>\n",
       "      <th>Ingresos_USD</th>\n",
       "      <th>Ingresos_USD_imputado</th>\n",
       "      <th>Ciudad_label</th>\n",
       "      <th>Ciudad_Barcelona</th>\n",
       "      <th>Ciudad_Madrid</th>\n",
       "      <th>Ciudad_Sevilla</th>\n",
       "      <th>CiudadDummy_Madrid</th>\n",
       "      <th>CiudadDummy_Sevilla</th>\n",
       "    </tr>\n",
       "  </thead>\n",
       "  <tbody>\n",
       "    <tr>\n",
       "      <th>0</th>\n",
       "      <td>1</td>\n",
       "      <td>25</td>\n",
       "      <td>Madrid</td>\n",
       "      <td>30000.0</td>\n",
       "      <td>30000.0</td>\n",
       "      <td>1</td>\n",
       "      <td>0.0</td>\n",
       "      <td>1.0</td>\n",
       "      <td>0.0</td>\n",
       "      <td>True</td>\n",
       "      <td>False</td>\n",
       "    </tr>\n",
       "    <tr>\n",
       "      <th>1</th>\n",
       "      <td>2</td>\n",
       "      <td>45</td>\n",
       "      <td>Sevilla</td>\n",
       "      <td>50000.0</td>\n",
       "      <td>50000.0</td>\n",
       "      <td>2</td>\n",
       "      <td>0.0</td>\n",
       "      <td>0.0</td>\n",
       "      <td>1.0</td>\n",
       "      <td>False</td>\n",
       "      <td>True</td>\n",
       "    </tr>\n",
       "    <tr>\n",
       "      <th>2</th>\n",
       "      <td>3</td>\n",
       "      <td>30</td>\n",
       "      <td>Madrid</td>\n",
       "      <td>NaN</td>\n",
       "      <td>40000.0</td>\n",
       "      <td>1</td>\n",
       "      <td>0.0</td>\n",
       "      <td>1.0</td>\n",
       "      <td>0.0</td>\n",
       "      <td>True</td>\n",
       "      <td>False</td>\n",
       "    </tr>\n",
       "    <tr>\n",
       "      <th>3</th>\n",
       "      <td>4</td>\n",
       "      <td>40</td>\n",
       "      <td>Barcelona</td>\n",
       "      <td>40000.0</td>\n",
       "      <td>40000.0</td>\n",
       "      <td>0</td>\n",
       "      <td>1.0</td>\n",
       "      <td>0.0</td>\n",
       "      <td>0.0</td>\n",
       "      <td>False</td>\n",
       "      <td>False</td>\n",
       "    </tr>\n",
       "  </tbody>\n",
       "</table>\n",
       "</div>"
      ]
     },
     "execution_count": 22,
     "metadata": {},
     "output_type": "execute_result"
    }
   ],
   "execution_count": 22
  },
  {
   "cell_type": "markdown",
   "id": "25c05801",
   "metadata": {},
   "source": [
    "## 5) Escalamiento (normalización vs. estandarización)\n",
    "Aplicamos **Min-Max** (rango [0,1]) y **Z-Score** (media 0, desvío 1) a `Edad` e `Ingresos_USD_imputado`. Útil para algoritmos basados en distancia o que son sensibles a la escala."
   ]
  },
  {
   "cell_type": "code",
   "id": "5e47e5b4",
   "metadata": {
    "ExecuteTime": {
     "end_time": "2025-08-30T20:02:45.479269Z",
     "start_time": "2025-08-30T20:02:45.467262Z"
    }
   },
   "source": [
    "# Escalamiento\n",
    "minmax = MinMaxScaler()\n",
    "zscaler = StandardScaler()\n",
    "\n",
    "scaled_minmax = minmax.fit_transform(df_enc[[\"Edad\", \"Ingresos_USD_imputado\"]])\n",
    "scaled_z = zscaler.fit_transform(df_enc[[\"Edad\", \"Ingresos_USD_imputado\"]])\n",
    "\n",
    "df_enc[[\"Edad_minmax\", \"Ingresos_minmax\"]] = scaled_minmax\n",
    "df_enc[[\"Edad_zscore\", \"Ingresos_zscore\"]] = scaled_z\n",
    "\n",
    "df_enc"
   ],
   "outputs": [
    {
     "data": {
      "text/plain": [
       "   ID  Edad     Ciudad  Ingresos_USD  Ingresos_USD_imputado  Ciudad_label  \\\n",
       "0   1    25     Madrid       30000.0                30000.0             1   \n",
       "1   2    45    Sevilla       50000.0                50000.0             2   \n",
       "2   3    30     Madrid           NaN                40000.0             1   \n",
       "3   4    40  Barcelona       40000.0                40000.0             0   \n",
       "\n",
       "   Ciudad_Barcelona  Ciudad_Madrid  Ciudad_Sevilla  CiudadDummy_Madrid  \\\n",
       "0               0.0            1.0             0.0                True   \n",
       "1               0.0            0.0             1.0               False   \n",
       "2               0.0            1.0             0.0                True   \n",
       "3               1.0            0.0             0.0               False   \n",
       "\n",
       "   CiudadDummy_Sevilla  Edad_minmax  Ingresos_minmax  Edad_zscore  \\\n",
       "0                False         0.00              0.0    -1.264911   \n",
       "1                 True         1.00              1.0     1.264911   \n",
       "2                False         0.25              0.5    -0.632456   \n",
       "3                False         0.75              0.5     0.632456   \n",
       "\n",
       "   Ingresos_zscore  \n",
       "0        -1.414214  \n",
       "1         1.414214  \n",
       "2         0.000000  \n",
       "3         0.000000  "
      ],
      "text/html": [
       "<div>\n",
       "<style scoped>\n",
       "    .dataframe tbody tr th:only-of-type {\n",
       "        vertical-align: middle;\n",
       "    }\n",
       "\n",
       "    .dataframe tbody tr th {\n",
       "        vertical-align: top;\n",
       "    }\n",
       "\n",
       "    .dataframe thead th {\n",
       "        text-align: right;\n",
       "    }\n",
       "</style>\n",
       "<table border=\"1\" class=\"dataframe\">\n",
       "  <thead>\n",
       "    <tr style=\"text-align: right;\">\n",
       "      <th></th>\n",
       "      <th>ID</th>\n",
       "      <th>Edad</th>\n",
       "      <th>Ciudad</th>\n",
       "      <th>Ingresos_USD</th>\n",
       "      <th>Ingresos_USD_imputado</th>\n",
       "      <th>Ciudad_label</th>\n",
       "      <th>Ciudad_Barcelona</th>\n",
       "      <th>Ciudad_Madrid</th>\n",
       "      <th>Ciudad_Sevilla</th>\n",
       "      <th>CiudadDummy_Madrid</th>\n",
       "      <th>CiudadDummy_Sevilla</th>\n",
       "      <th>Edad_minmax</th>\n",
       "      <th>Ingresos_minmax</th>\n",
       "      <th>Edad_zscore</th>\n",
       "      <th>Ingresos_zscore</th>\n",
       "    </tr>\n",
       "  </thead>\n",
       "  <tbody>\n",
       "    <tr>\n",
       "      <th>0</th>\n",
       "      <td>1</td>\n",
       "      <td>25</td>\n",
       "      <td>Madrid</td>\n",
       "      <td>30000.0</td>\n",
       "      <td>30000.0</td>\n",
       "      <td>1</td>\n",
       "      <td>0.0</td>\n",
       "      <td>1.0</td>\n",
       "      <td>0.0</td>\n",
       "      <td>True</td>\n",
       "      <td>False</td>\n",
       "      <td>0.00</td>\n",
       "      <td>0.0</td>\n",
       "      <td>-1.264911</td>\n",
       "      <td>-1.414214</td>\n",
       "    </tr>\n",
       "    <tr>\n",
       "      <th>1</th>\n",
       "      <td>2</td>\n",
       "      <td>45</td>\n",
       "      <td>Sevilla</td>\n",
       "      <td>50000.0</td>\n",
       "      <td>50000.0</td>\n",
       "      <td>2</td>\n",
       "      <td>0.0</td>\n",
       "      <td>0.0</td>\n",
       "      <td>1.0</td>\n",
       "      <td>False</td>\n",
       "      <td>True</td>\n",
       "      <td>1.00</td>\n",
       "      <td>1.0</td>\n",
       "      <td>1.264911</td>\n",
       "      <td>1.414214</td>\n",
       "    </tr>\n",
       "    <tr>\n",
       "      <th>2</th>\n",
       "      <td>3</td>\n",
       "      <td>30</td>\n",
       "      <td>Madrid</td>\n",
       "      <td>NaN</td>\n",
       "      <td>40000.0</td>\n",
       "      <td>1</td>\n",
       "      <td>0.0</td>\n",
       "      <td>1.0</td>\n",
       "      <td>0.0</td>\n",
       "      <td>True</td>\n",
       "      <td>False</td>\n",
       "      <td>0.25</td>\n",
       "      <td>0.5</td>\n",
       "      <td>-0.632456</td>\n",
       "      <td>0.000000</td>\n",
       "    </tr>\n",
       "    <tr>\n",
       "      <th>3</th>\n",
       "      <td>4</td>\n",
       "      <td>40</td>\n",
       "      <td>Barcelona</td>\n",
       "      <td>40000.0</td>\n",
       "      <td>40000.0</td>\n",
       "      <td>0</td>\n",
       "      <td>1.0</td>\n",
       "      <td>0.0</td>\n",
       "      <td>0.0</td>\n",
       "      <td>False</td>\n",
       "      <td>False</td>\n",
       "      <td>0.75</td>\n",
       "      <td>0.5</td>\n",
       "      <td>0.632456</td>\n",
       "      <td>0.000000</td>\n",
       "    </tr>\n",
       "  </tbody>\n",
       "</table>\n",
       "</div>"
      ]
     },
     "execution_count": 23,
     "metadata": {},
     "output_type": "execute_result"
    }
   ],
   "execution_count": 23
  },
  {
   "cell_type": "markdown",
   "id": "ff2b99f4",
   "metadata": {},
   "source": [
    "## 6) Visualización rápida (Z-Score)\n",
    "Graficamos un *scatter* en espacio estandarizado para evidenciar el escalamiento."
   ]
  },
  {
   "cell_type": "code",
   "id": "ead55f91",
   "metadata": {
    "ExecuteTime": {
     "end_time": "2025-08-30T20:02:50.802364Z",
     "start_time": "2025-08-30T20:02:50.738657Z"
    }
   },
   "source": [
    "# Gráfico scatter Z-Score\n",
    "plt.figure()\n",
    "plt.scatter(df_enc[\"Edad_zscore\"], df_enc[\"Ingresos_zscore\"])\n",
    "plt.xlabel(\"Edad (Z-Score)\")\n",
    "plt.ylabel(\"Ingresos (Z-Score)\")\n",
    "plt.title(\"Visualización: Datos estandarizados (Z-Score)\")\n",
    "plt.show()"
   ],
   "outputs": [
    {
     "data": {
      "text/plain": [
       "<Figure size 640x480 with 1 Axes>"
      ],
      "image/png": "[encoded data removed]"
     },
     "metadata": {},
     "output_type": "display_data"
    }
   ],
   "execution_count": 25
  },
  {
   "cell_type": "markdown",
   "id": "cc0364a5",
   "metadata": {},
   "source": [
    "## 7) Guardar resultados\n",
    "Exportamos el dataset procesado a **CSV** y **XLSX**, y guardamos el gráfico como **PNG**."
   ]
  },
  {
   "cell_type": "code",
   "id": "abebcb86",
   "metadata": {
    "ExecuteTime": {
     "end_time": "2025-08-30T20:03:10.860908Z",
     "start_time": "2025-08-30T20:03:10.758959Z"
    }
   },
   "source": [
    "# Guardados\n",
    "csv_path = \"clientes_preprocesado.csv\"\n",
    "xlsx_path = \"clientes_preprocesado.xlsx\"\n",
    "png_path = \"plot_escalado.png\"\n",
    "\n",
    "df_enc.to_csv(csv_path, index=False, encoding=\"utf-8\")\n",
    "df_enc.to_excel(xlsx_path, index=False)\n",
    "\n",
    "plt.figure()\n",
    "plt.scatter(df_enc[\"Edad_zscore\"], df_enc[\"Ingresos_zscore\"])\n",
    "plt.xlabel(\"Edad (Z-Score)\")\n",
    "plt.ylabel(\"Ingresos (Z-Score)\")\n",
    "plt.title(\"Visualización: Datos estandarizados (Z-Score)\")\n",
    "plt.savefig(png_path, bbox_inches=\"tight\", dpi=180)\n",
    "plt.close()\n",
    "\n",
    "print(\"OK: archivos generados ->\", csv_path, xlsx_path, png_path)"
   ],
   "outputs": [
    {
     "name": "stdout",
     "output_type": "stream",
     "text": [
      "OK: archivos generados -> clientes_preprocesado.csv clientes_preprocesado.xlsx plot_escalado.png\n"
     ]
    }
   ],
   "execution_count": 28
  }
 ],
 "metadata": {
  "kernelspec": {
   "name": "conda-base-py",
   "language": "python",
   "display_name": "Python [conda env:base] *"
  }
 },
 "nbformat": 4,
 "nbformat_minor": 5
}
