{
 "cells": [
  {
   "cell_type": "markdown",
   "id": "5023c460",
   "metadata": {},
   "source": [
    "# ABP Módulo 6 – Aplicación Ciencia de Datos"
   ]
  },
  {
   "cell_type": "markdown",
   "id": "dbb5e538",
   "metadata": {},
   "source": [
    "### 1) Cargar dataset simulado"
   ]
  },
  {
   "cell_type": "code",
   "id": "e22df1e7",
   "metadata": {
    "ExecuteTime": {
     "end_time": "2025-08-30T22:29:16.505744Z",
     "start_time": "2025-08-30T22:29:16.497836Z"
    }
   },
   "source": [
    "import pandas as pd\n",
    "df = pd.read_csv('abp_mod6_dataset.csv')\n",
    "df.head()"
   ],
   "outputs": [
    {
     "data": {
      "text/plain": [
       "   age   income  debt_ratio  delinquencies  credit_history_years  \\\n",
       "0   22  1083131    0.000000              0              7.351319   \n",
       "1   59  1158604    0.043281              0              8.350566   \n",
       "2   52  1099209    0.200053              0             10.855870   \n",
       "3   41  1261025    0.249609              0              3.141906   \n",
       "4   40  1788596    0.276490              1             11.698463   \n",
       "\n",
       "   has_mortgage  has_dependents  employment_years  approved  credit_limit  \n",
       "0             1               1          6.231550         1       1234094  \n",
       "1             1               0          1.369610         1       1756771  \n",
       "2             0               0         12.134704         1       1663618  \n",
       "3             0               0          9.154001         1       1405778  \n",
       "4             0               1          9.634364         1       1971274  "
      ],
      "text/html": [
       "<div>\n",
       "<style scoped>\n",
       "    .dataframe tbody tr th:only-of-type {\n",
       "        vertical-align: middle;\n",
       "    }\n",
       "\n",
       "    .dataframe tbody tr th {\n",
       "        vertical-align: top;\n",
       "    }\n",
       "\n",
       "    .dataframe thead th {\n",
       "        text-align: right;\n",
       "    }\n",
       "</style>\n",
       "<table border=\"1\" class=\"dataframe\">\n",
       "  <thead>\n",
       "    <tr style=\"text-align: right;\">\n",
       "      <th></th>\n",
       "      <th>age</th>\n",
       "      <th>income</th>\n",
       "      <th>debt_ratio</th>\n",
       "      <th>delinquencies</th>\n",
       "      <th>credit_history_years</th>\n",
       "      <th>has_mortgage</th>\n",
       "      <th>has_dependents</th>\n",
       "      <th>employment_years</th>\n",
       "      <th>approved</th>\n",
       "      <th>credit_limit</th>\n",
       "    </tr>\n",
       "  </thead>\n",
       "  <tbody>\n",
       "    <tr>\n",
       "      <th>0</th>\n",
       "      <td>22</td>\n",
       "      <td>1083131</td>\n",
       "      <td>0.000000</td>\n",
       "      <td>0</td>\n",
       "      <td>7.351319</td>\n",
       "      <td>1</td>\n",
       "      <td>1</td>\n",
       "      <td>6.231550</td>\n",
       "      <td>1</td>\n",
       "      <td>1234094</td>\n",
       "    </tr>\n",
       "    <tr>\n",
       "      <th>1</th>\n",
       "      <td>59</td>\n",
       "      <td>1158604</td>\n",
       "      <td>0.043281</td>\n",
       "      <td>0</td>\n",
       "      <td>8.350566</td>\n",
       "      <td>1</td>\n",
       "      <td>0</td>\n",
       "      <td>1.369610</td>\n",
       "      <td>1</td>\n",
       "      <td>1756771</td>\n",
       "    </tr>\n",
       "    <tr>\n",
       "      <th>2</th>\n",
       "      <td>52</td>\n",
       "      <td>1099209</td>\n",
       "      <td>0.200053</td>\n",
       "      <td>0</td>\n",
       "      <td>10.855870</td>\n",
       "      <td>0</td>\n",
       "      <td>0</td>\n",
       "      <td>12.134704</td>\n",
       "      <td>1</td>\n",
       "      <td>1663618</td>\n",
       "    </tr>\n",
       "    <tr>\n",
       "      <th>3</th>\n",
       "      <td>41</td>\n",
       "      <td>1261025</td>\n",
       "      <td>0.249609</td>\n",
       "      <td>0</td>\n",
       "      <td>3.141906</td>\n",
       "      <td>0</td>\n",
       "      <td>0</td>\n",
       "      <td>9.154001</td>\n",
       "      <td>1</td>\n",
       "      <td>1405778</td>\n",
       "    </tr>\n",
       "    <tr>\n",
       "      <th>4</th>\n",
       "      <td>40</td>\n",
       "      <td>1788596</td>\n",
       "      <td>0.276490</td>\n",
       "      <td>1</td>\n",
       "      <td>11.698463</td>\n",
       "      <td>0</td>\n",
       "      <td>1</td>\n",
       "      <td>9.634364</td>\n",
       "      <td>1</td>\n",
       "      <td>1971274</td>\n",
       "    </tr>\n",
       "  </tbody>\n",
       "</table>\n",
       "</div>"
      ]
     },
     "execution_count": 2,
     "metadata": {},
     "output_type": "execute_result"
    }
   ],
   "execution_count": 2
  },
  {
   "cell_type": "markdown",
   "id": "20222720",
   "metadata": {},
   "source": [
    "### 2) Preparar datos y pipelines"
   ]
  },
  {
   "cell_type": "code",
   "id": "c41abedd",
   "metadata": {
    "ExecuteTime": {
     "end_time": "2025-08-30T22:59:23.783968Z",
     "start_time": "2025-08-30T22:59:23.778402Z"
    }
   },
   "source": [
    "from sklearn.model_selection import train_test_split, StratifiedKFold, cross_val_score\n",
    "from sklearn.preprocessing import StandardScaler, OneHotEncoder\n",
    "from sklearn.compose import ColumnTransformer\n",
    "from sklearn.pipeline import Pipeline\n",
    "from sklearn.linear_model import LogisticRegression, LinearRegression\n",
    "from sklearn.ensemble import RandomForestClassifier, RandomForestRegressor\n",
    "from sklearn.metrics import accuracy_score, precision_score, recall_score, f1_score, roc_auc_score, confusion_matrix, roc_curve, mean_absolute_error, mean_squared_error, r2_score\n",
    "import numpy as np, math\n",
    "\n",
    "X = df.drop(columns=['approved','credit_limit'])\n",
    "y_cls = df['approved']\n",
    "y_reg = df['credit_limit']\n",
    "\n",
    "num_cols = [\"age\",\"income\",\"debt_ratio\",\"delinquencies\",\"credit_history_years\",\"employment_years\"]\n",
    "cat_cols = [\"has_mortgage\",\"has_dependents\"]\n",
    "preprocess = ColumnTransformer([('num', StandardScaler(), num_cols), ('cat', OneHotEncoder(drop='if_binary', handle_unknown='ignore'), cat_cols)])"
   ],
   "outputs": [],
   "execution_count": 5
  },
  {
   "cell_type": "markdown",
   "id": "44ba1f4a",
   "metadata": {},
   "source": [
    "### 3) Clasificación – Entrenamiento y métricas"
   ]
  },
  {
   "cell_type": "code",
   "id": "6a680111",
   "metadata": {
    "ExecuteTime": {
     "end_time": "2025-08-30T22:59:27.080712Z",
     "start_time": "2025-08-30T22:59:25.950228Z"
    }
   },
   "source": [
    "X_train, X_test, y_train, y_test = train_test_split(X, y_cls, test_size=0.2, random_state=7, stratify=y_cls)\n",
    "logit = Pipeline([('prep', preprocess), ('clf', LogisticRegression(max_iter=200, class_weight='balanced'))])\n",
    "rf    = Pipeline([('prep', preprocess), ('clf', RandomForestClassifier(n_estimators=300, random_state=7))])\n",
    "cv = StratifiedKFold(n_splits=5, shuffle=True, random_state=7)\n",
    "import numpy as np\n",
    "from sklearn.model_selection import cross_val_score\n",
    "auc_logit = cross_val_score(logit, X_train, y_train, cv=cv, scoring='roc_auc').mean()\n",
    "auc_rf    = cross_val_score(rf,    X_train, y_train, cv=cv, scoring='roc_auc').mean()\n",
    "best = rf if auc_rf > auc_logit else logit\n",
    "best.fit(X_train, y_train)\n",
    "y_prob = best.predict_proba(X_test)[:,1]\n",
    "y_hat  = (y_prob >= 0.5).astype(int)\n",
    "acc  = accuracy_score(y_test, y_hat)\n",
    "prec = precision_score(y_test, y_hat)\n",
    "rec  = recall_score(y_test, y_hat)\n",
    "f1   = f1_score(y_test, y_hat)\n",
    "auc  = roc_auc_score(y_test, y_prob)\n",
    "(acc, prec, rec, f1, auc)"
   ],
   "outputs": [
    {
     "data": {
      "text/plain": [
       "(0.7583333333333333,\n",
       " 0.9404761904761905,\n",
       " 0.7669902912621359,\n",
       " 0.8449197860962567,\n",
       " 0.8349514563106797)"
      ]
     },
     "execution_count": 6,
     "metadata": {},
     "output_type": "execute_result"
    }
   ],
   "execution_count": 6
  },
  {
   "cell_type": "code",
   "id": "e4c0d16a",
   "metadata": {
    "ExecuteTime": {
     "end_time": "2025-08-30T23:06:01.631804Z",
     "start_time": "2025-08-30T23:06:01.473293Z"
    }
   },
   "source": [
    "import numpy as np\n",
    "import matplotlib.pyplot as plt\n",
    "from sklearn.metrics import confusion_matrix, roc_curve, auc as sk_auc\n",
    "\n",
    "# Matriz de confusión\n",
    "cm = confusion_matrix(y_test, y_hat)\n",
    "\n",
    "fig, ax = plt.subplots()\n",
    "im = ax.imshow(cm, interpolation='nearest', cmap='Blues')  # 'im' es el mappable\n",
    "ax.set_title('Matriz de confusión')\n",
    "ax.set_xlabel('Predicho')\n",
    "ax.set_ylabel('Real')\n",
    "\n",
    "# Anotar cada celda con su conteo\n",
    "for (i, j), val in np.ndenumerate(cm):\n",
    "    ax.text(j, i, int(val), ha='center', va='center', color='black')\n",
    "\n",
    "# Agregar la barra de color UNA sola vez usando el mappable\n",
    "fig.colorbar(im, ax=ax)\n",
    "fig.tight_layout()\n",
    "plt.show()\n",
    "\n",
    "# Curva ROC\n",
    "# Asegúrate de que y_prob sea la probabilidad del positivo (por ejemplo, predict_proba(... )[:, 1])\n",
    "fpr, tpr, thr = roc_curve(y_test, y_prob)\n",
    "roc_auc = sk_auc(fpr, tpr)\n",
    "\n",
    "fig, ax = plt.subplots()\n",
    "ax.plot(fpr, tpr, label=f'ROC (AUC={roc_auc:.3f})')\n",
    "ax.plot([0, 1], [0, 1], '--', color='gray')\n",
    "ax.set_xlabel('FPR')\n",
    "ax.set_ylabel('TPR')\n",
    "ax.set_title('Curva ROC')\n",
    "ax.legend()\n",
    "plt.show()\n"
   ],
   "outputs": [
    {
     "data": {
      "text/plain": [
       "<Figure size 640x480 with 2 Axes>"
      ],
      "image/png": "[encoded data removed]"
     },
     "metadata": {},
     "output_type": "display_data"
    },
    {
     "data": {
      "text/plain": [
       "<Figure size 640x480 with 1 Axes>"
      ],
      "image/png": "[encoded data removed]"
     },
     "metadata": {},
     "output_type": "display_data"
    }
   ],
   "execution_count": 14
  },
  {
   "cell_type": "markdown",
   "id": "6bb06d7b",
   "metadata": {},
   "source": [
    "### 4) Regresión – Entrenamiento y métricas"
   ]
  },
  {
   "cell_type": "code",
   "id": "b45a7398",
   "metadata": {
    "ExecuteTime": {
     "end_time": "2025-08-30T23:06:05.145004Z",
     "start_time": "2025-08-30T23:06:04.676866Z"
    }
   },
   "source": [
    "X_train_r, X_test_r, y_train_r, y_test_r = train_test_split(X, y_reg, test_size=0.2, random_state=7)\n",
    "linreg = Pipeline([('prep', preprocess), ('reg', LinearRegression())]).fit(X_train_r, y_train_r)\n",
    "rfr    = Pipeline([('prep', preprocess), ('reg', RandomForestRegressor(n_estimators=300, random_state=7))]).fit(X_train_r, y_train_r)\n",
    "\n",
    "def eval_reg(model, Xtr, Xte, ytr, yte):\n",
    "    import math\n",
    "    from sklearn.metrics import mean_absolute_error, mean_squared_error, r2_score\n",
    "    pred = model.predict(Xte)\n",
    "    mae = mean_absolute_error(yte, pred)\n",
    "    rmse = math.sqrt(mean_squared_error(yte, pred))\n",
    "    r2 = r2_score(yte, pred)\n",
    "    return mae, rmse, r2\n",
    "\n",
    "metrics_lin = eval_reg(linreg, X_train_r, X_test_r, y_train_r, y_test_r)\n",
    "metrics_rfr = eval_reg(rfr,    X_train_r, X_test_r, y_train_r, y_test_r)\n",
    "metrics_lin, metrics_rfr"
   ],
   "outputs": [
    {
     "data": {
      "text/plain": [
       "((106542.17073796465, 134130.48904596764, 0.9125304198905458),\n",
       " (167344.04227777774, 209402.15603858643, 0.7868112302053928))"
      ]
     },
     "execution_count": 15,
     "metadata": {},
     "output_type": "execute_result"
    }
   ],
   "execution_count": 15
  },
  {
   "cell_type": "markdown",
   "id": "e2e72a7b",
   "metadata": {},
   "source": [
    "### 5) Persistencia del mejor modelo y API Flask"
   ]
  },
  {
   "cell_type": "code",
   "id": "a093c4cd",
   "metadata": {
    "ExecuteTime": {
     "end_time": "2025-08-30T23:06:07.723154Z",
     "start_time": "2025-08-30T23:06:07.718600Z"
    }
   },
   "source": [
    "import joblib\n",
    "joblib.dump(best, 'model_pipeline.joblib')\n",
    "print('Modelo guardado en model_pipeline.joblib')"
   ],
   "outputs": [
    {
     "name": "stdout",
     "output_type": "stream",
     "text": [
      "Modelo guardado en model_pipeline.joblib\n"
     ]
    }
   ],
   "execution_count": 16
  },
  {
   "cell_type": "markdown",
   "id": "9548c33e",
   "metadata": {},
   "source": [
    "**Ejecutar API**\n",
    "```bash\n",
    "pip install flask joblib scikit-learn\n",
    "python app.py\n",
    "```\n",
    "\n",
    "**Ejemplo de request**\n",
    "```bash\n",
    "curl -X POST http://127.0.0.1:8000/predict \\\n",
    " -H 'Content-Type: application/json' \\\n",
    " -d '{\"age\":35,\"income\":1500000,\"debt_ratio\":0.3,\"delinquencies\":0,\"credit_history_years\":10,\"has_mortgage\":0,\"has_dependents\":0,\"employment_years\":8}'\n",
    "```\n",
    "\n",
    "**Respuesta Esperada**\n",
    "```json\n",
    "{\n",
    "  \"probability\": 0.87,\n",
    "  \"prediction\": 1\n",
    "}\n",
    "```"
   ]
  }
 ],
 "metadata": {
  "kernelspec": {
   "name": "conda-base-py",
   "language": "python",
   "display_name": "Python [conda env:base] *"
  }
 },
 "nbformat": 4,
 "nbformat_minor": 5
}
